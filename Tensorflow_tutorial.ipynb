{
  "nbformat": 4,
  "nbformat_minor": 0,
  "metadata": {
    "colab": {
      "name": "Tensorflow tutorial.ipynb",
      "provenance": [],
      "authorship_tag": "ABX9TyMVxMj9frUd4xowXLEGC7j9",
      "include_colab_link": true
    },
    "kernelspec": {
      "name": "python3",
      "display_name": "Python 3"
    },
    "language_info": {
      "name": "python"
    }
  },
  "cells": [
    {
      "cell_type": "markdown",
      "metadata": {
        "id": "view-in-github",
        "colab_type": "text"
      },
      "source": [
        "<a href=\"https://colab.research.google.com/github/catmalark/Tensorflow-Study-Notes/blob/main/Tensorflow_tutorial.ipynb\" target=\"_parent\"><img src=\"https://colab.research.google.com/assets/colab-badge.svg\" alt=\"Open In Colab\"/></a>"
      ]
    },
    {
      "cell_type": "code",
      "source": [
        "import tensorflow as tf\n"
      ],
      "metadata": {
        "id": "56iXJVdXl6iO"
      },
      "execution_count": null,
      "outputs": []
    },
    {
      "cell_type": "code",
      "source": [
        "x = tf.constant(4, shape = (1,1)) # 1x1 matrix\n",
        "print(x)"
      ],
      "metadata": {
        "colab": {
          "base_uri": "https://localhost:8080/"
        },
        "id": "RDCC5ZjImWvM",
        "outputId": "2555d35b-f3ca-45f1-ae1f-fdadbeb5f41c"
      },
      "execution_count": null,
      "outputs": [
        {
          "output_type": "stream",
          "name": "stdout",
          "text": [
            "tf.Tensor([[4]], shape=(1, 1), dtype=int32)\n"
          ]
        }
      ]
    },
    {
      "cell_type": "code",
      "source": [
        "x = tf.constant([[1, 2, 3], [4, 5, 6]])\n",
        "print(x)\n",
        "\n",
        "x = tf.ones((3, 3))\n",
        "print(x)\n",
        "\n",
        "x = tf.zeros((2, 4))\n",
        "print(x)\n",
        "\n",
        "x = tf.eye(3)    #identity matrix\n",
        "print(x)\n",
        "\n",
        "x = tf.random.normal((3,3), mean=0, stddev=1)  #normal distrubition\n",
        "print(x)\n",
        "\n",
        "x = tf.random.uniform((3,3), minval=0, maxval=1)\n",
        "print(x)"
      ],
      "metadata": {
        "id": "QlH8zvzXmtgA"
      },
      "execution_count": null,
      "outputs": []
    },
    {
      "cell_type": "code",
      "source": [
        "# Mathematical Operations\n",
        "x = tf.constant([1,2,3])\n",
        "y = tf.constant([9,8,7])\n",
        "print(x + y)\n",
        "print(x - y)\n",
        "print(x / y)\n",
        "print(x * y)\n",
        "\n",
        "z = tf.tensordot(x, y, axes=1) #Element wise multipicaiton and summation of them\n",
        "print(z)\n",
        "\n",
        "z = x**5\n",
        "print(z)\n",
        "\n",
        "x = tf.random.normal((2, 3))\n",
        "y = tf.random.normal((3, 4))\n",
        "z = tf.matmul(x, y)\n",
        "print(z)\n",
        "z = x @ y\n",
        "print(z)"
      ],
      "metadata": {
        "id": "eBFN5g7Lomzb"
      },
      "execution_count": null,
      "outputs": []
    },
    {
      "cell_type": "code",
      "source": [
        "# Indexing\n",
        "x = tf.constant([0, 1, 2, 3, 4, 5, 6, 7, 8, 9])\n",
        "print(x[:])\n",
        "print(x[1:]) #from 1.th element to end\n",
        "print(x[1:3])\n",
        "print(x[::-1])\n",
        "\n",
        "indices = tf.constant([0, 3])\n",
        "x_ind = tf.gather(x, indices) #0 and 3rd element\n",
        "print(x_ind)\n",
        "\n",
        "x = tf.constant([[1, 2],\n",
        "                 [3, 4],\n",
        "                 [5, 6]])\n",
        "print(x[1, :]) # 1th indexed row, for us this is 2th row but computer its 1th\n",
        "print(x[0:2, :])"
      ],
      "metadata": {
        "id": "uiKaJc-Sufwm"
      },
      "execution_count": null,
      "outputs": []
    },
    {
      "cell_type": "code",
      "source": [
        "# Basic Reshaping\n",
        "x = tf.range(9)\n",
        "print(x)\n",
        "\n",
        "x = tf.reshape(x, (3,3))\n",
        "print(x)\n",
        "\n",
        "x = tf.transpose(x)\n",
        "print(x)"
      ],
      "metadata": {
        "id": "g8dMneJuw2BE"
      },
      "execution_count": null,
      "outputs": []
    },
    {
      "cell_type": "markdown",
      "source": [
        "------------------------------------------------------------------------------\n",
        "\n",
        "**Now Tutorial 3:**\n"
      ],
      "metadata": {
        "id": "OwZO27Zix-R-"
      }
    },
    {
      "cell_type": "code",
      "source": [
        "# Training Neural Network\n",
        "\n",
        "import tensorflow as tf\n",
        "from tensorflow import keras # offical API \n",
        "from keras import layers\n",
        "from keras.datasets import mnist"
      ],
      "metadata": {
        "id": "OwrqSR18ziHX"
      },
      "execution_count": null,
      "outputs": []
    },
    {
      "cell_type": "code",
      "source": [
        "(x_train, y_train), (x_test, y_test) = mnist.load_data()\n",
        "print(x_train.shape) # this is currently 28x28 so we need to flatten them\n",
        "print(y_train.shape)\n",
        "\n",
        "x_train = x_train.reshape(-1, 784) / 255.0 # -1 means keep the first value in our case 60000 so it will be 60000x784\n",
        "print(x_train.shape)\n",
        "x_test = x_test.reshape(-1, 784) / 255.0 # Normalizing to make them in range 0-1"
      ],
      "metadata": {
        "colab": {
          "base_uri": "https://localhost:8080/"
        },
        "id": "Tg_hZecR3JAP",
        "outputId": "d1904d6e-7425-4912-b8a1-fffe432f0901"
      },
      "execution_count": null,
      "outputs": [
        {
          "output_type": "stream",
          "name": "stdout",
          "text": [
            "Downloading data from https://storage.googleapis.com/tensorflow/tf-keras-datasets/mnist.npz\n",
            "11493376/11490434 [==============================] - 0s 0us/step\n",
            "11501568/11490434 [==============================] - 0s 0us/step\n",
            "(60000, 28, 28)\n",
            "(60000,)\n",
            "(60000, 784)\n"
          ]
        }
      ]
    },
    {
      "cell_type": "code",
      "source": [
        "#Sequential API (Very convient, not flexible)\n",
        "\n",
        "model = keras.Sequential(\n",
        "    [\n",
        "     keras.Input(shape=(28*28)),   # For be able to write model summary \n",
        "     layers.Dense(512, activation=\"relu\"),\n",
        "     layers.Dense(216, activation=\"relu\"),        # 2 hidden layers\n",
        "     layers.Dense(10),\n",
        "    ]\n",
        ")\n",
        "\n",
        "print(model.summary())     # to get a more info about model, helpfull for debugging \n",
        "\n",
        "model.compile(        # Tell keras how to configure the training part of our network\n",
        "    loss = keras.losses.SparseCategoricalCrossentropy(from_logits=True), #send to softmax\n",
        "    optimizer = keras.optimizers.Adam(lr=0.001),    #lr is learning rate\n",
        "    metrics = [\"accuracy\"],\n",
        ")\n",
        "\n",
        "model.fit(x_train, y_train, batch_size=32, epochs=5, verbose=2)\n",
        "model.evaluate(x_test, y_test, batch_size=32, verbose=2)\n",
        "\n"
      ],
      "metadata": {
        "colab": {
          "base_uri": "https://localhost:8080/"
        },
        "id": "kMdorGqh44Tn",
        "outputId": "1017f39d-2dce-43b4-c444-3313f62f3ace"
      },
      "execution_count": null,
      "outputs": [
        {
          "output_type": "stream",
          "name": "stdout",
          "text": [
            "Model: \"sequential_1\"\n",
            "_________________________________________________________________\n",
            " Layer (type)                Output Shape              Param #   \n",
            "=================================================================\n",
            " dense_3 (Dense)             (None, 512)               401920    \n",
            "                                                                 \n",
            " dense_4 (Dense)             (None, 216)               110808    \n",
            "                                                                 \n",
            " dense_5 (Dense)             (None, 10)                2170      \n",
            "                                                                 \n",
            "=================================================================\n",
            "Total params: 514,898\n",
            "Trainable params: 514,898\n",
            "Non-trainable params: 0\n",
            "_________________________________________________________________\n",
            "None\n"
          ]
        },
        {
          "output_type": "stream",
          "name": "stderr",
          "text": [
            "/usr/local/lib/python3.7/dist-packages/keras/optimizer_v2/adam.py:105: UserWarning: The `lr` argument is deprecated, use `learning_rate` instead.\n",
            "  super(Adam, self).__init__(name, **kwargs)\n"
          ]
        },
        {
          "output_type": "stream",
          "name": "stdout",
          "text": [
            "Epoch 1/5\n",
            "1875/1875 - 10s - loss: 0.1860 - accuracy: 0.9436 - 10s/epoch - 6ms/step\n",
            "Epoch 2/5\n",
            "1875/1875 - 11s - loss: 0.0789 - accuracy: 0.9756 - 11s/epoch - 6ms/step\n",
            "Epoch 3/5\n",
            "1875/1875 - 13s - loss: 0.0550 - accuracy: 0.9825 - 13s/epoch - 7ms/step\n",
            "Epoch 4/5\n",
            "1875/1875 - 14s - loss: 0.0417 - accuracy: 0.9865 - 14s/epoch - 7ms/step\n",
            "Epoch 5/5\n",
            "1875/1875 - 14s - loss: 0.0322 - accuracy: 0.9897 - 14s/epoch - 8ms/step\n",
            "313/313 - 1s - loss: 0.0842 - accuracy: 0.9793 - 1s/epoch - 4ms/step\n"
          ]
        },
        {
          "output_type": "execute_result",
          "data": {
            "text/plain": [
              "[0.08422854542732239, 0.9793000221252441]"
            ]
          },
          "metadata": {},
          "execution_count": 4
        }
      ]
    },
    {
      "cell_type": "code",
      "source": [
        "#Functional API (More flexible, yu can put multiple inputs and outputs, whereas Sequentil API is 1 input to 1 output)\n",
        "\n",
        "inputs = keras.Input(shape=(784))\n",
        "x = layers.Dense(512, activation=\"relu\")(inputs) #previus one we difined, sending the previous layer\n",
        "x = layers.Dense(256, activation=\"relu\")(x)       # you can also name layers with name=\"\"\n",
        "outputs = layers.Dense(10, activation=\"softmax\")(x)  \n",
        "model = keras.Model(inputs=inputs, outputs=outputs) # going to take inputs and outputs we defined above\n",
        "\n",
        "\n",
        "model.compile(        \n",
        "    loss = keras.losses.SparseCategoricalCrossentropy(from_logits=False), #just beacuse we used softmax on outputs, from_logits will be false\n",
        "    optimizer = keras.optimizers.Adam(learning_rate=0.001),    # try different optimizers than Adam, for exp: Adagrad, Gradient Descent with Momentum, RMSprop\n",
        "    metrics = [\"accuracy\"],\n",
        ")\n",
        "\n",
        "model.fit(x_train, y_train, batch_size=32, epochs=5, verbose=2)\n",
        "model.evaluate(x_test, y_test, batch_size=32, verbose=2)"
      ],
      "metadata": {
        "colab": {
          "base_uri": "https://localhost:8080/"
        },
        "id": "UJ1empfxCngW",
        "outputId": "0b43a59b-7bba-4286-db22-60cfb039eddf"
      },
      "execution_count": null,
      "outputs": [
        {
          "output_type": "stream",
          "name": "stdout",
          "text": [
            "Epoch 1/5\n",
            "1875/1875 - 13s - loss: 0.1860 - accuracy: 0.9433 - 13s/epoch - 7ms/step\n",
            "Epoch 2/5\n",
            "1875/1875 - 11s - loss: 0.0779 - accuracy: 0.9754 - 11s/epoch - 6ms/step\n",
            "Epoch 3/5\n",
            "1875/1875 - 11s - loss: 0.0546 - accuracy: 0.9830 - 11s/epoch - 6ms/step\n",
            "Epoch 4/5\n",
            "1875/1875 - 10s - loss: 0.0398 - accuracy: 0.9874 - 10s/epoch - 6ms/step\n",
            "Epoch 5/5\n",
            "1875/1875 - 10s - loss: 0.0336 - accuracy: 0.9892 - 10s/epoch - 6ms/step\n",
            "313/313 - 1s - loss: 0.0775 - accuracy: 0.9782 - 846ms/epoch - 3ms/step\n"
          ]
        },
        {
          "output_type": "execute_result",
          "data": {
            "text/plain": [
              "[0.07748877257108688, 0.9782000184059143]"
            ]
          },
          "metadata": {},
          "execution_count": 7
        }
      ]
    },
    {
      "cell_type": "markdown",
      "source": [
        "# Video 4:"
      ],
      "metadata": {
        "id": "ExD1I5Ms_ber"
      }
    },
    {
      "cell_type": "code",
      "source": [
        "import tensorflow as tf\n",
        "from tensorflow import keras\n",
        "from keras import layers\n",
        "from keras.datasets import cifar10    #50000 training images, 10000 test images, 32x32 pixels RGB"
      ],
      "metadata": {
        "id": "DlAY5t2n_iY2"
      },
      "execution_count": 14,
      "outputs": []
    },
    {
      "cell_type": "code",
      "source": [
        "(x_train, y_train), (x_test, y_test) = cifar10.load_data()"
      ],
      "metadata": {
        "id": "hmgK5AlpAkc9"
      },
      "execution_count": 25,
      "outputs": []
    },
    {
      "cell_type": "code",
      "source": [
        "x_train = x_train.astype(\"float32\") / 255.0\n",
        "x_test = x_test.astype(\"float32\") / 255.0\n",
        "\n",
        "print(x_train.shape)\n",
        "print(y_train.shape)\n",
        "print(x_test.shape)\n",
        "print(y_test.shape)"
      ],
      "metadata": {
        "colab": {
          "base_uri": "https://localhost:8080/"
        },
        "id": "IJKFtqwnA1ot",
        "outputId": "ba52ef9d-c08a-4c08-b3aa-d87e0f01729a"
      },
      "execution_count": 27,
      "outputs": [
        {
          "output_type": "stream",
          "name": "stdout",
          "text": [
            "(50000, 32, 32, 3)\n",
            "(50000, 1)\n",
            "(10000, 32, 32, 3)\n",
            "(10000, 1)\n"
          ]
        }
      ]
    },
    {
      "cell_type": "code",
      "source": [
        "#Sequential API\n",
        "from keras.layers.pooling import MaxPooling2D\n",
        "model = keras.Sequential(\n",
        "    [\n",
        "     keras.Input(shape=(32, 32, 3)),   #We are not going to flat it in the begining \n",
        "     layers.Conv2D(32, 3, padding=\"valid\", activation=\"relu\"),    #How many channels this convolotional channel to output, 3 is (3,3)\n",
        "     layers.MaxPooling2D(pool_size=(2,2)),\n",
        "     layers.Conv2D(64, 3, activation=\"relu\"),\n",
        "     layers.MaxPooling2D(),\n",
        "     layers.Conv2D(128, 3, activation=\"relu\"),\n",
        "     layers.Flatten(),\n",
        "     layers.Dense(64, activation=\"relu\"),\n",
        "     layers.Dense(10),\n",
        "    ]\n",
        ")\n",
        "\n",
        "print(model.summary()) \n",
        "\n",
        "model.compile(\n",
        "    loss=keras.losses.SparseCategoricalCrossentropy(from_logits=True),\n",
        "    optimizer=keras.optimizers.Nadam(learning_rate=3e-4),\n",
        "    metrics=[\"accuracy\"],\n",
        ")\n",
        "\n",
        "model.fit(x_train, y_train, batch_size=64, epochs=10, verbose=2)\n",
        "model.evaluate(x_test, y_test, batch_size=64, verbose=2)"
      ],
      "metadata": {
        "colab": {
          "base_uri": "https://localhost:8080/"
        },
        "id": "AEtNoRBDBK3w",
        "outputId": "9b07b5e0-18ea-4fbc-adfb-7b02eafcc32c"
      },
      "execution_count": 28,
      "outputs": [
        {
          "output_type": "stream",
          "name": "stdout",
          "text": [
            "Model: \"sequential_8\"\n",
            "_________________________________________________________________\n",
            " Layer (type)                Output Shape              Param #   \n",
            "=================================================================\n",
            " conv2d_28 (Conv2D)          (None, 30, 30, 32)        896       \n",
            "                                                                 \n",
            " max_pooling2d_18 (MaxPoolin  (None, 15, 15, 32)       0         \n",
            " g2D)                                                            \n",
            "                                                                 \n",
            " conv2d_29 (Conv2D)          (None, 13, 13, 64)        18496     \n",
            "                                                                 \n",
            " max_pooling2d_19 (MaxPoolin  (None, 6, 6, 64)         0         \n",
            " g2D)                                                            \n",
            "                                                                 \n",
            " conv2d_30 (Conv2D)          (None, 4, 4, 128)         73856     \n",
            "                                                                 \n",
            " flatten_8 (Flatten)         (None, 2048)              0         \n",
            "                                                                 \n",
            " dense_16 (Dense)            (None, 64)                131136    \n",
            "                                                                 \n",
            " dense_17 (Dense)            (None, 10)                650       \n",
            "                                                                 \n",
            "=================================================================\n",
            "Total params: 225,034\n",
            "Trainable params: 225,034\n",
            "Non-trainable params: 0\n",
            "_________________________________________________________________\n",
            "None\n",
            "Epoch 1/10\n",
            "782/782 - 63s - loss: 2.1223 - accuracy: 0.2158 - 63s/epoch - 80ms/step\n",
            "Epoch 2/10\n",
            "782/782 - 60s - loss: 1.9698 - accuracy: 0.2853 - 60s/epoch - 76ms/step\n",
            "Epoch 3/10\n",
            "782/782 - 60s - loss: 1.8774 - accuracy: 0.3212 - 60s/epoch - 76ms/step\n",
            "Epoch 4/10\n",
            "782/782 - 60s - loss: 1.7927 - accuracy: 0.3533 - 60s/epoch - 77ms/step\n",
            "Epoch 5/10\n",
            "782/782 - 60s - loss: 1.7048 - accuracy: 0.3872 - 60s/epoch - 77ms/step\n",
            "Epoch 6/10\n",
            "782/782 - 61s - loss: 1.6382 - accuracy: 0.4093 - 61s/epoch - 78ms/step\n",
            "Epoch 7/10\n",
            "782/782 - 65s - loss: 1.5922 - accuracy: 0.4264 - 65s/epoch - 83ms/step\n",
            "Epoch 8/10\n",
            "782/782 - 63s - loss: 1.5580 - accuracy: 0.4395 - 63s/epoch - 80ms/step\n",
            "Epoch 9/10\n",
            "782/782 - 63s - loss: 1.5302 - accuracy: 0.4497 - 63s/epoch - 81ms/step\n",
            "Epoch 10/10\n",
            "782/782 - 63s - loss: 1.5064 - accuracy: 0.4598 - 63s/epoch - 80ms/step\n",
            "157/157 - 4s - loss: 622.1104 - accuracy: 0.1588 - 4s/epoch - 23ms/step\n"
          ]
        },
        {
          "output_type": "execute_result",
          "data": {
            "text/plain": [
              "[622.1103515625, 0.15880000591278076]"
            ]
          },
          "metadata": {},
          "execution_count": 28
        }
      ]
    },
    {
      "cell_type": "code",
      "source": [
        "#Now lets make a Functional API\n",
        "\n",
        "def my_model():\n",
        "  inputs = keras.Input(shape=(32,32,3))\n",
        "  x = layers.Conv2D(32, 3)(inputs)\n",
        "  x = layers.BatchNormalization()(x)\n",
        "  x = keras.activations.relu(x)\n",
        "  x = layers.MaxPooling2D()(x)\n",
        "  x = layers.Conv2D(64, 5, padding=\"same\")(x)\n",
        "  x = layers.BatchNormalization()(x)\n",
        "  x = keras.activations.relu(x)\n",
        "  x = layers.Conv2D(128, 3)(x)\n",
        "  x = layers.BatchNormalization()(x)\n",
        "  x = keras.activations.relu(x)\n",
        "  x = layers.Flatten()(x)\n",
        "  x = layers.Dense(64, activation=\"relu\")(x)\n",
        "  outputs = layers.Dense(10)(x)\n",
        "  model = keras.Model(inputs=inputs, outputs=outputs)\n",
        "  return model"
      ],
      "metadata": {
        "id": "BG_EDhkXGDU7"
      },
      "execution_count": 17,
      "outputs": []
    },
    {
      "cell_type": "code",
      "source": [
        "model = my_model()\n",
        "model.compile(\n",
        "    loss=keras.losses.SparseCategoricalCrossentropy(from_logits=True),\n",
        "    optimizer=keras.optimizers.Nadam(learning_rate=3e-4),\n",
        "    metrics=[\"accuracy\"],\n",
        ")\n",
        "\n",
        "model.fit(x_train, y_train, batch_size=64, epochs=10, verbose=2)\n",
        "model.evaluate(x_test, y_test, batch_size=64, verbose=2)"
      ],
      "metadata": {
        "id": "cFP-06p-JBHI"
      },
      "execution_count": null,
      "outputs": []
    }
  ]
}
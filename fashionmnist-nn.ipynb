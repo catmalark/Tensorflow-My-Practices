{
 "cells": [
  {
   "cell_type": "code",
   "execution_count": 1,
   "id": "0420a63b",
   "metadata": {
    "_cell_guid": "b1076dfc-b9ad-4769-8c92-a6c4dae69d19",
    "_uuid": "8f2839f25d086af736a60e9eeb907d3b93b6e0e5",
    "execution": {
     "iopub.execute_input": "2022-04-07T16:15:21.121379Z",
     "iopub.status.busy": "2022-04-07T16:15:21.118381Z",
     "iopub.status.idle": "2022-04-07T16:15:21.137603Z",
     "shell.execute_reply": "2022-04-07T16:15:21.138096Z",
     "shell.execute_reply.started": "2022-04-07T13:12:21.333957Z"
    },
    "papermill": {
     "duration": 0.038365,
     "end_time": "2022-04-07T16:15:21.138397",
     "exception": false,
     "start_time": "2022-04-07T16:15:21.100032",
     "status": "completed"
    },
    "tags": []
   },
   "outputs": [
    {
     "name": "stdout",
     "output_type": "stream",
     "text": [
      "/kaggle/input/fashionmnist/t10k-labels-idx1-ubyte\n",
      "/kaggle/input/fashionmnist/t10k-images-idx3-ubyte\n",
      "/kaggle/input/fashionmnist/fashion-mnist_test.csv\n",
      "/kaggle/input/fashionmnist/fashion-mnist_train.csv\n",
      "/kaggle/input/fashionmnist/train-labels-idx1-ubyte\n",
      "/kaggle/input/fashionmnist/train-images-idx3-ubyte\n"
     ]
    }
   ],
   "source": [
    "# This Python 3 environment comes with many helpful analytics libraries installed\n",
    "# It is defined by the kaggle/python Docker image: https://github.com/kaggle/docker-python\n",
    "# For example, here's several helpful packages to load\n",
    "\n",
    "import numpy as np # linear algebra\n",
    "import pandas as pd # data processing, CSV file I/O (e.g. pd.read_csv)\n",
    "\n",
    "# Input data files are available in the read-only \"../input/\" directory\n",
    "# For example, running this (by clicking run or pressing Shift+Enter) will list all files under the input directory\n",
    "\n",
    "import os\n",
    "for dirname, _, filenames in os.walk(\"/kaggle/input/fashionmnist/\"):\n",
    "    for filename in filenames:\n",
    "        print(os.path.join(dirname, filename))\n",
    "\n",
    "# You can write up to 20GB to the current directory (/kaggle/working/) that gets preserved as output when you create a version using \"Save & Run All\" \n",
    "# You can also write temporary files to /kaggle/temp/, but they won't be saved outside of the current session"
   ]
  },
  {
   "cell_type": "code",
   "execution_count": 2,
   "id": "c274d7d0",
   "metadata": {
    "execution": {
     "iopub.execute_input": "2022-04-07T16:15:21.162388Z",
     "iopub.status.busy": "2022-04-07T16:15:21.161639Z",
     "iopub.status.idle": "2022-04-07T16:15:26.582608Z",
     "shell.execute_reply": "2022-04-07T16:15:26.583114Z",
     "shell.execute_reply.started": "2022-04-07T15:49:56.248301Z"
    },
    "papermill": {
     "duration": 5.434225,
     "end_time": "2022-04-07T16:15:26.583296",
     "exception": false,
     "start_time": "2022-04-07T16:15:21.149071",
     "status": "completed"
    },
    "tags": []
   },
   "outputs": [],
   "source": [
    "import tensorflow as tf\n",
    "import pandas as pd\n",
    "from tensorflow import keras\n",
    "from keras import layers"
   ]
  },
  {
   "cell_type": "code",
   "execution_count": 3,
   "id": "3d92ca55",
   "metadata": {
    "execution": {
     "iopub.execute_input": "2022-04-07T16:15:26.606924Z",
     "iopub.status.busy": "2022-04-07T16:15:26.606201Z",
     "iopub.status.idle": "2022-04-07T16:15:34.139177Z",
     "shell.execute_reply": "2022-04-07T16:15:34.138537Z",
     "shell.execute_reply.started": "2022-04-07T15:49:59.092402Z"
    },
    "papermill": {
     "duration": 7.545807,
     "end_time": "2022-04-07T16:15:34.139355",
     "exception": false,
     "start_time": "2022-04-07T16:15:26.593548",
     "status": "completed"
    },
    "tags": []
   },
   "outputs": [],
   "source": [
    "data_train = pd.read_csv(\"../input/fashionmnist/fashion-mnist_train.csv\")\n",
    "data_test = pd.read_csv(\"../input/fashionmnist/fashion-mnist_test.csv\")"
   ]
  },
  {
   "cell_type": "code",
   "execution_count": 4,
   "id": "aaeeafd2",
   "metadata": {
    "execution": {
     "iopub.execute_input": "2022-04-07T16:15:34.180463Z",
     "iopub.status.busy": "2022-04-07T16:15:34.179784Z",
     "iopub.status.idle": "2022-04-07T16:15:34.814571Z",
     "shell.execute_reply": "2022-04-07T16:15:34.813854Z",
     "shell.execute_reply.started": "2022-04-07T15:50:11.092367Z"
    },
    "papermill": {
     "duration": 0.665388,
     "end_time": "2022-04-07T16:15:34.814726",
     "exception": false,
     "start_time": "2022-04-07T16:15:34.149338",
     "status": "completed"
    },
    "tags": []
   },
   "outputs": [
    {
     "name": "stderr",
     "output_type": "stream",
     "text": [
      "2022-04-07 16:15:34.176188: I tensorflow/core/common_runtime/process_util.cc:146] Creating new thread pool with default inter op setting: 2. Tune using inter_op_parallelism_threads for best performance.\n"
     ]
    }
   ],
   "source": [
    "data_train = tf.convert_to_tensor(data_train)\n",
    "data_test = tf.convert_to_tensor(data_test)"
   ]
  },
  {
   "cell_type": "code",
   "execution_count": 5,
   "id": "0c6a15e5",
   "metadata": {
    "execution": {
     "iopub.execute_input": "2022-04-07T16:15:34.843002Z",
     "iopub.status.busy": "2022-04-07T16:15:34.842319Z",
     "iopub.status.idle": "2022-04-07T16:15:35.172616Z",
     "shell.execute_reply": "2022-04-07T16:15:35.172051Z",
     "shell.execute_reply.started": "2022-04-07T15:50:20.039648Z"
    },
    "papermill": {
     "duration": 0.347869,
     "end_time": "2022-04-07T16:15:35.172756",
     "exception": false,
     "start_time": "2022-04-07T16:15:34.824887",
     "status": "completed"
    },
    "tags": []
   },
   "outputs": [
    {
     "name": "stdout",
     "output_type": "stream",
     "text": [
      "(60000, 784)\n",
      "(60000,)\n",
      "(10000, 784)\n",
      "(10000,)\n"
     ]
    }
   ],
   "source": [
    "#Loading Data\n",
    "\n",
    "x_train = data_train[:, 1:786]\n",
    "y_train = data_train[:, 0]\n",
    "print(x_train.shape)\n",
    "print(y_train.shape)\n",
    "x_test = data_test[:, 1:786]\n",
    "y_test = data_test[:, 0]\n",
    "print(x_test.shape)\n",
    "print(y_test.shape)"
   ]
  },
  {
   "cell_type": "code",
   "execution_count": 6,
   "id": "2dd346df",
   "metadata": {
    "execution": {
     "iopub.execute_input": "2022-04-07T16:15:35.198597Z",
     "iopub.status.busy": "2022-04-07T16:15:35.197786Z",
     "iopub.status.idle": "2022-04-07T16:15:35.557406Z",
     "shell.execute_reply": "2022-04-07T16:15:35.556804Z",
     "shell.execute_reply.started": "2022-04-07T15:54:06.748492Z"
    },
    "papermill": {
     "duration": 0.374477,
     "end_time": "2022-04-07T16:15:35.557550",
     "exception": false,
     "start_time": "2022-04-07T16:15:35.183073",
     "status": "completed"
    },
    "tags": []
   },
   "outputs": [],
   "source": [
    "# Normalization\n",
    "\n",
    "x_train = x_train / 255\n",
    "x_test = x_test / 255"
   ]
  },
  {
   "cell_type": "code",
   "execution_count": 7,
   "id": "15fd46e7",
   "metadata": {
    "execution": {
     "iopub.execute_input": "2022-04-07T16:15:35.586501Z",
     "iopub.status.busy": "2022-04-07T16:15:35.585243Z",
     "iopub.status.idle": "2022-04-07T16:17:44.375818Z",
     "shell.execute_reply": "2022-04-07T16:17:44.376368Z",
     "shell.execute_reply.started": "2022-04-07T16:03:17.074290Z"
    },
    "papermill": {
     "duration": 128.808708,
     "end_time": "2022-04-07T16:17:44.376562",
     "exception": false,
     "start_time": "2022-04-07T16:15:35.567854",
     "status": "completed"
    },
    "tags": []
   },
   "outputs": [
    {
     "name": "stderr",
     "output_type": "stream",
     "text": [
      "2022-04-07 16:15:36.113808: I tensorflow/compiler/mlir/mlir_graph_optimization_pass.cc:185] None of the MLIR Optimization Passes are enabled (registered 2)\n"
     ]
    },
    {
     "name": "stdout",
     "output_type": "stream",
     "text": [
      "Epoch 1/10\n",
      "1875/1875 - 14s - loss: 0.4611 - accuracy: 0.8328\n",
      "Epoch 2/10\n",
      "1875/1875 - 12s - loss: 0.3449 - accuracy: 0.8735\n",
      "Epoch 3/10\n",
      "1875/1875 - 13s - loss: 0.3121 - accuracy: 0.8849\n",
      "Epoch 4/10\n",
      "1875/1875 - 13s - loss: 0.2900 - accuracy: 0.8925\n",
      "Epoch 5/10\n",
      "1875/1875 - 12s - loss: 0.2738 - accuracy: 0.8968\n",
      "Epoch 6/10\n",
      "1875/1875 - 13s - loss: 0.2589 - accuracy: 0.9026\n",
      "Epoch 7/10\n",
      "1875/1875 - 12s - loss: 0.2462 - accuracy: 0.9074\n",
      "Epoch 8/10\n",
      "1875/1875 - 12s - loss: 0.2357 - accuracy: 0.9111\n",
      "Epoch 9/10\n",
      "1875/1875 - 13s - loss: 0.2233 - accuracy: 0.9155\n",
      "Epoch 10/10\n",
      "1875/1875 - 13s - loss: 0.2196 - accuracy: 0.9163\n",
      "313/313 - 1s - loss: 0.3329 - accuracy: 0.8814\n"
     ]
    },
    {
     "data": {
      "text/plain": [
       "[0.33290308713912964, 0.8813999891281128]"
      ]
     },
     "execution_count": 7,
     "metadata": {},
     "output_type": "execute_result"
    }
   ],
   "source": [
    "# Functional API\n",
    "\n",
    "inputs = keras.Input(shape=(784))\n",
    "x = layers.Dense(512, activation=\"relu\")(inputs)\n",
    "x = layers.Dense(256, activation=\"relu\")(x)\n",
    "outputs = layers.Dense(10, activation=\"softmax\")(x)\n",
    "model = keras.Model(inputs = inputs, outputs = outputs)\n",
    "\n",
    "model.compile(\n",
    "    loss = keras.losses.SparseCategoricalCrossentropy(from_logits=False),\n",
    "    optimizer = keras.optimizers.Nadam(learning_rate=0.001),\n",
    "    metrics = [\"accuracy\"],\n",
    ")\n",
    "\n",
    "model.fit(x_train, y_train, batch_size=32, epochs=10, verbose=2)\n",
    "model.evaluate(x_test, y_test, batch_size=32, verbose=2) "
   ]
  },
  {
   "cell_type": "markdown",
   "id": "8cada8cf",
   "metadata": {
    "papermill": {
     "duration": 0.018239,
     "end_time": "2022-04-07T16:17:44.417492",
     "exception": false,
     "start_time": "2022-04-07T16:17:44.399253",
     "status": "completed"
    },
    "tags": []
   },
   "source": [
    "My first model!\n",
    "Test Set Acurracy: 0.8878"
   ]
  }
 ],
 "metadata": {
  "kernelspec": {
   "display_name": "Python 3",
   "language": "python",
   "name": "python3"
  },
  "language_info": {
   "codemirror_mode": {
    "name": "ipython",
    "version": 3
   },
   "file_extension": ".py",
   "mimetype": "text/x-python",
   "name": "python",
   "nbconvert_exporter": "python",
   "pygments_lexer": "ipython3",
   "version": "3.7.12"
  },
  "papermill": {
   "default_parameters": {},
   "duration": 156.606868,
   "end_time": "2022-04-07T16:17:48.039300",
   "environment_variables": {},
   "exception": null,
   "input_path": "__notebook__.ipynb",
   "output_path": "__notebook__.ipynb",
   "parameters": {},
   "start_time": "2022-04-07T16:15:11.432432",
   "version": "2.3.3"
  }
 },
 "nbformat": 4,
 "nbformat_minor": 5
}

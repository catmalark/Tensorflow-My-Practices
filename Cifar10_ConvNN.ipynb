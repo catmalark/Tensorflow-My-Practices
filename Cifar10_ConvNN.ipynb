{
  "nbformat": 4,
  "nbformat_minor": 0,
  "metadata": {
    "colab": {
      "name": "Cifar10 ConvNN.ipynb",
      "provenance": [],
      "collapsed_sections": [],
      "authorship_tag": "ABX9TyNgtaSynN55xdhjEk1yRiSr",
      "include_colab_link": true
    },
    "kernelspec": {
      "name": "python3",
      "display_name": "Python 3"
    },
    "language_info": {
      "name": "python"
    },
    "accelerator": "GPU"
  },
  "cells": [
    {
      "cell_type": "markdown",
      "metadata": {
        "id": "view-in-github",
        "colab_type": "text"
      },
      "source": [
        "<a href=\"https://colab.research.google.com/github/catmalark/Tensorflow-My-Practices/blob/main/Cifar10_ConvNN.ipynb\" target=\"_parent\"><img src=\"https://colab.research.google.com/assets/colab-badge.svg\" alt=\"Open In Colab\"/></a>"
      ]
    },
    {
      "cell_type": "code",
      "execution_count": 2,
      "metadata": {
        "id": "ZYwDzys_wyPz"
      },
      "outputs": [],
      "source": [
        "import tensorflow as tf\n",
        "import numpy as np\n",
        "from tensorflow import keras\n",
        "from keras import layers\n",
        "import matplotlib.pyplot as plt\n",
        "from keras.preprocessing.image import ImageDataGenerator, array_to_img\n",
        "import csv\n",
        "import string\n",
        "import os"
      ]
    },
    {
      "cell_type": "code",
      "source": [
        "cifar10 = tf.keras.datasets.cifar10\n",
        "\n",
        "(training_images, training_labels), (test_images, test_labels) = cifar10.load_data()"
      ],
      "metadata": {
        "id": "DYuCq7bT0cGT",
        "colab": {
          "base_uri": "https://localhost:8080/"
        },
        "outputId": "00ecd838-cd69-4bc0-ff30-ff4da8a27b88"
      },
      "execution_count": 3,
      "outputs": [
        {
          "output_type": "stream",
          "name": "stdout",
          "text": [
            "Downloading data from https://www.cs.toronto.edu/~kriz/cifar-10-python.tar.gz\n",
            "170500096/170498071 [==============================] - 13s 0us/step\n",
            "170508288/170498071 [==============================] - 13s 0us/step\n"
          ]
        }
      ]
    },
    {
      "cell_type": "code",
      "source": [
        "training_images.shape"
      ],
      "metadata": {
        "colab": {
          "base_uri": "https://localhost:8080/"
        },
        "id": "MnMeAV-J1gSg",
        "outputId": "c9682fc6-c50e-4849-e537-2e53059e0a67"
      },
      "execution_count": 4,
      "outputs": [
        {
          "output_type": "execute_result",
          "data": {
            "text/plain": [
              "(50000, 32, 32, 3)"
            ]
          },
          "metadata": {},
          "execution_count": 4
        }
      ]
    },
    {
      "cell_type": "code",
      "source": [
        "training_labels.shape"
      ],
      "metadata": {
        "colab": {
          "base_uri": "https://localhost:8080/"
        },
        "id": "jRRsnTZc8YSA",
        "outputId": "5e9153ac-f2b0-4a4e-a47e-ccc152ee67d8"
      },
      "execution_count": 5,
      "outputs": [
        {
          "output_type": "execute_result",
          "data": {
            "text/plain": [
              "(50000, 1)"
            ]
          },
          "metadata": {},
          "execution_count": 5
        }
      ]
    },
    {
      "cell_type": "code",
      "source": [
        "training_images = np.array(training_images).astype(np.float64)\n",
        "training_labels = np.array(training_labels).astype(np.float64)\n",
        "test_images = np.array(test_images).astype(np.float64)\n",
        "test_labels = np.array(test_labels).astype(np.float64)"
      ],
      "metadata": {
        "id": "bpfnTg7GOgK2"
      },
      "execution_count": 6,
      "outputs": []
    },
    {
      "cell_type": "code",
      "source": [
        "training_images_splitted = training_images[0:45000, :, :, :]\n",
        "validation_images = training_images[45000:50001, :, :, :]\n",
        "\n",
        "training_labels_splitted = training_labels[0:45000]\n",
        "validation_labels = training_labels[45000:50001]\n",
        "\n",
        "print(training_images_splitted.shape)\n",
        "print(training_labels_splitted.shape)\n",
        "\n",
        "print(validation_images.shape)\n",
        "print(validation_labels.shape)"
      ],
      "metadata": {
        "colab": {
          "base_uri": "https://localhost:8080/"
        },
        "id": "M6Dylhxc35Ov",
        "outputId": "e72f690c-1d1e-4dfb-cd82-3ec52bc21034"
      },
      "execution_count": 7,
      "outputs": [
        {
          "output_type": "stream",
          "name": "stdout",
          "text": [
            "(45000, 32, 32, 3)\n",
            "(45000, 1)\n",
            "(5000, 32, 32, 3)\n",
            "(5000, 1)\n"
          ]
        }
      ]
    },
    {
      "cell_type": "code",
      "source": [
        "# Plot a sample of 10 images from the training set\n",
        "def plot_categories(training_images, training_labels):\n",
        "  fig, axes = plt.subplots(1, 10, figsize=(16, 15))\n",
        "  axes = axes.flatten()\n",
        "  letters = list(string.ascii_lowercase)\n",
        "\n",
        "  for k in range(10):\n",
        "    img = training_images[k]\n",
        "   # img = np.expand_dims(img, axis=-1)\n",
        "    img = array_to_img(img)\n",
        "    ax = axes[k]\n",
        "    ax.imshow(img, cmap=\"Greys_r\")\n",
        "    ax.set_title(f\"{letters[int(training_labels[k])]}\")\n",
        "    ax.set_axis_off()\n",
        "\n",
        "  plt.tight_layout()\n",
        "  plt.show()\n",
        "\n",
        "plot_categories(training_images, training_labels)"
      ],
      "metadata": {
        "colab": {
          "base_uri": "https://localhost:8080/",
          "height": 135
        },
        "id": "gDK3YxbB1u_A",
        "outputId": "099e1f3b-3239-4ee3-e790-791349b5db97"
      },
      "execution_count": 8,
      "outputs": [
        {
          "output_type": "display_data",
          "data": {
            "text/plain": [
              "<Figure size 1152x1080 with 10 Axes>"
            ],
            "image/png": "[encoded data removed]"
          },
          "metadata": {
            "needs_background": "light"
          }
        }
      ]
    },
    {
      "cell_type": "code",
      "source": [
        "train_datagen = ImageDataGenerator(\n",
        "    rescale=1/255,\n",
        "    rotation_range=40,\n",
        "    #width_shift_range=0.2,\n",
        "    #height_shift_range=0.2,\n",
        "    #shear_range=0.2,\n",
        "    #zoom_range=0.2,\n",
        "    horizontal_flip=True,\n",
        "    vertical_flip=True,\n",
        "    #fill_mode='nearest'\n",
        ")\n",
        "\n",
        "train_generator = train_datagen.flow(\n",
        "    x = training_images_splitted,\n",
        "    y = training_labels_splitted.reshape(-1,),\n",
        "    batch_size=64,\n",
        ")\n",
        "\n",
        "validation_datagen = ImageDataGenerator(rescale=1/255)\n",
        "\n",
        "validation_generator = validation_datagen.flow(\n",
        "    x = validation_images,\n",
        "    y = validation_labels.reshape(-1,),\n",
        "    batch_size=64,\n",
        ")\n",
        "\n",
        "test_datagen = ImageDataGenerator(rescale=1/255)\n",
        "\n",
        "test_generator = test_datagen.flow(\n",
        "    x = test_images,\n",
        "    y = test_labels.reshape(-1,),\n",
        "    batch_size=64,\n",
        ")"
      ],
      "metadata": {
        "id": "v57wcZuv2Isd"
      },
      "execution_count": 31,
      "outputs": []
    },
    {
      "cell_type": "code",
      "source": [
        "print(f\"Images of training generator have shape: {train_generator.x.shape}\")\n",
        "print(f\"Labels of training generator have shape: {train_generator.y.shape}\")\n",
        "print(f\"Images of validation generator have shape: {validation_generator.x.shape}\")\n",
        "print(f\"Labels of validation generator have shape: {validation_generator.y.shape}\")\n",
        "print(f\"Images of test generator have shape: {test_generator.x.shape}\")\n",
        "print(f\"Labels of test generator have shape: {test_generator.y.shape}\")"
      ],
      "metadata": {
        "colab": {
          "base_uri": "https://localhost:8080/"
        },
        "id": "61LmZWuP_1a4",
        "outputId": "64bf8783-4c2b-47df-b28b-148b876a83e9"
      },
      "execution_count": 10,
      "outputs": [
        {
          "output_type": "stream",
          "name": "stdout",
          "text": [
            "Images of training generator have shape: (45000, 32, 32, 3)\n",
            "Labels of training generator have shape: (45000,)\n",
            "Images of validation generator have shape: (5000, 32, 32, 3)\n",
            "Labels of validation generator have shape: (5000,)\n",
            "Images of test generator have shape: (10000, 32, 32, 3)\n",
            "Labels of test generator have shape: (10000,)\n"
          ]
        }
      ]
    },
    {
      "cell_type": "code",
      "source": [
        "model = keras.models.Sequential([\n",
        "                                 \n",
        "                        layers.Conv2D(32, (3,3), activation=\"relu\", input_shape=(32, 32, 3)),\n",
        "                        layers.MaxPooling2D(2,2),\n",
        "\n",
        "                        layers.Conv2D(64, (3,3), activation=\"relu\"),\n",
        "                        layers.MaxPooling2D(2,2),\n",
        "\n",
        "                        layers.Flatten(),\n",
        "                        layers.Dense(512, activation=\"relu\"),\n",
        "                        layers.Dropout(0.2),\n",
        "                        layers.Dense(256, activation=\"relu\"),\n",
        "                        layers.Dense(10, activation=\"softmax\"),\n",
        "])\n",
        "\n",
        "model.compile(\n",
        "    optimizer = keras.optimizers.Nadam(),\n",
        "    loss = \"sparse_categorical_crossentropy\",\n",
        "    metrics=[\"accuracy\"]\n",
        ")"
      ],
      "metadata": {
        "id": "eDjnqjAFAG8x"
      },
      "execution_count": 28,
      "outputs": []
    },
    {
      "cell_type": "code",
      "source": [
        "model.summary()"
      ],
      "metadata": {
        "colab": {
          "base_uri": "https://localhost:8080/"
        },
        "id": "p781PukvJHSh",
        "outputId": "095ddf6c-52eb-4061-9946-26461697e4d0"
      },
      "execution_count": 29,
      "outputs": [
        {
          "output_type": "stream",
          "name": "stdout",
          "text": [
            "Model: \"sequential_3\"\n",
            "_________________________________________________________________\n",
            " Layer (type)                Output Shape              Param #   \n",
            "=================================================================\n",
            " conv2d_6 (Conv2D)           (None, 30, 30, 32)        896       \n",
            "                                                                 \n",
            " max_pooling2d_6 (MaxPooling  (None, 15, 15, 32)       0         \n",
            " 2D)                                                             \n",
            "                                                                 \n",
            " conv2d_7 (Conv2D)           (None, 13, 13, 64)        18496     \n",
            "                                                                 \n",
            " max_pooling2d_7 (MaxPooling  (None, 6, 6, 64)         0         \n",
            " 2D)                                                             \n",
            "                                                                 \n",
            " flatten_3 (Flatten)         (None, 2304)              0         \n",
            "                                                                 \n",
            " dense_9 (Dense)             (None, 512)               1180160   \n",
            "                                                                 \n",
            " dropout_1 (Dropout)         (None, 512)               0         \n",
            "                                                                 \n",
            " dense_10 (Dense)            (None, 256)               131328    \n",
            "                                                                 \n",
            " dense_11 (Dense)            (None, 10)                2570      \n",
            "                                                                 \n",
            "=================================================================\n",
            "Total params: 1,333,450\n",
            "Trainable params: 1,333,450\n",
            "Non-trainable params: 0\n",
            "_________________________________________________________________\n"
          ]
        }
      ]
    },
    {
      "cell_type": "code",
      "source": [
        "#Callback Function\n",
        "class myCallback(tf.keras.callbacks.Callback):\n",
        "        def on_epoch_end(self, epoch, logs={}):\n",
        "            if logs.get('accuracy') >= 0.999: \n",
        "                print(\"\\nReached 99.9% accuracy so cancelling training!\") \n",
        "                self.model.stop_training = True"
      ],
      "metadata": {
        "id": "7RW9HASoB94w"
      },
      "execution_count": 13,
      "outputs": []
    },
    {
      "cell_type": "code",
      "source": [
        "callbacks = myCallback()\n",
        "\n",
        "history = model.fit(train_generator,\n",
        "                    epochs=30,\n",
        "                    validation_data=validation_generator,\n",
        "                    callbacks=[callbacks]\n",
        ")"
      ],
      "metadata": {
        "colab": {
          "base_uri": "https://localhost:8080/"
        },
        "id": "RD3tSyoxBers",
        "outputId": "8b6bf82e-bf8b-47f1-a586-8582c034fcd7"
      },
      "execution_count": 32,
      "outputs": [
        {
          "output_type": "stream",
          "name": "stdout",
          "text": [
            "Epoch 1/30\n",
            "704/704 [==============================] - 21s 30ms/step - loss: 0.9680 - accuracy: 0.6581 - val_loss: 0.9461 - val_accuracy: 0.6654\n",
            "Epoch 2/30\n",
            "704/704 [==============================] - 21s 30ms/step - loss: 0.9433 - accuracy: 0.6668 - val_loss: 0.9538 - val_accuracy: 0.6700\n",
            "Epoch 3/30\n",
            "704/704 [==============================] - 21s 29ms/step - loss: 0.9326 - accuracy: 0.6704 - val_loss: 0.9831 - val_accuracy: 0.6552\n",
            "Epoch 4/30\n",
            "704/704 [==============================] - 21s 30ms/step - loss: 0.9247 - accuracy: 0.6710 - val_loss: 0.9219 - val_accuracy: 0.6758\n",
            "Epoch 5/30\n",
            "704/704 [==============================] - 21s 29ms/step - loss: 0.9144 - accuracy: 0.6751 - val_loss: 0.9130 - val_accuracy: 0.6730\n",
            "Epoch 6/30\n",
            "704/704 [==============================] - 21s 30ms/step - loss: 0.9035 - accuracy: 0.6802 - val_loss: 0.8856 - val_accuracy: 0.6904\n",
            "Epoch 7/30\n",
            "704/704 [==============================] - 21s 29ms/step - loss: 0.8876 - accuracy: 0.6860 - val_loss: 0.9039 - val_accuracy: 0.6880\n",
            "Epoch 8/30\n",
            "704/704 [==============================] - 21s 30ms/step - loss: 0.8819 - accuracy: 0.6895 - val_loss: 0.9344 - val_accuracy: 0.6728\n",
            "Epoch 9/30\n",
            "704/704 [==============================] - 20s 29ms/step - loss: 0.8686 - accuracy: 0.6929 - val_loss: 0.8586 - val_accuracy: 0.7024\n",
            "Epoch 10/30\n",
            "704/704 [==============================] - 21s 30ms/step - loss: 0.8624 - accuracy: 0.6931 - val_loss: 0.8763 - val_accuracy: 0.6944\n",
            "Epoch 11/30\n",
            "704/704 [==============================] - 21s 29ms/step - loss: 0.8513 - accuracy: 0.6992 - val_loss: 0.8672 - val_accuracy: 0.6936\n",
            "Epoch 12/30\n",
            "704/704 [==============================] - 21s 29ms/step - loss: 0.8450 - accuracy: 0.7009 - val_loss: 0.8666 - val_accuracy: 0.6968\n",
            "Epoch 13/30\n",
            "704/704 [==============================] - 21s 30ms/step - loss: 0.8320 - accuracy: 0.7056 - val_loss: 0.8736 - val_accuracy: 0.6992\n",
            "Epoch 14/30\n",
            "704/704 [==============================] - 21s 30ms/step - loss: 0.8304 - accuracy: 0.7057 - val_loss: 0.8756 - val_accuracy: 0.6952\n",
            "Epoch 15/30\n",
            "704/704 [==============================] - 21s 29ms/step - loss: 0.8177 - accuracy: 0.7102 - val_loss: 0.8998 - val_accuracy: 0.6950\n",
            "Epoch 16/30\n",
            "704/704 [==============================] - 21s 30ms/step - loss: 0.8176 - accuracy: 0.7104 - val_loss: 0.8645 - val_accuracy: 0.7024\n",
            "Epoch 17/30\n",
            "704/704 [==============================] - 21s 30ms/step - loss: 0.8107 - accuracy: 0.7108 - val_loss: 0.8574 - val_accuracy: 0.7014\n",
            "Epoch 18/30\n",
            "704/704 [==============================] - 21s 29ms/step - loss: 0.8047 - accuracy: 0.7139 - val_loss: 0.8770 - val_accuracy: 0.6958\n",
            "Epoch 19/30\n",
            "704/704 [==============================] - 21s 30ms/step - loss: 0.7991 - accuracy: 0.7178 - val_loss: 0.8520 - val_accuracy: 0.7070\n",
            "Epoch 20/30\n",
            "704/704 [==============================] - 21s 29ms/step - loss: 0.7930 - accuracy: 0.7196 - val_loss: 0.8579 - val_accuracy: 0.7124\n",
            "Epoch 21/30\n",
            "704/704 [==============================] - 20s 29ms/step - loss: 0.7836 - accuracy: 0.7212 - val_loss: 0.8327 - val_accuracy: 0.7102\n",
            "Epoch 22/30\n",
            "704/704 [==============================] - 21s 29ms/step - loss: 0.7811 - accuracy: 0.7238 - val_loss: 0.8658 - val_accuracy: 0.7070\n",
            "Epoch 23/30\n",
            "704/704 [==============================] - 21s 30ms/step - loss: 0.7767 - accuracy: 0.7245 - val_loss: 0.8574 - val_accuracy: 0.7062\n",
            "Epoch 24/30\n",
            "704/704 [==============================] - 20s 29ms/step - loss: 0.7710 - accuracy: 0.7245 - val_loss: 0.8637 - val_accuracy: 0.7044\n",
            "Epoch 25/30\n",
            "704/704 [==============================] - 21s 29ms/step - loss: 0.7660 - accuracy: 0.7285 - val_loss: 0.8335 - val_accuracy: 0.7142\n",
            "Epoch 26/30\n",
            "704/704 [==============================] - 20s 29ms/step - loss: 0.7672 - accuracy: 0.7273 - val_loss: 0.8251 - val_accuracy: 0.7194\n",
            "Epoch 27/30\n",
            "704/704 [==============================] - 20s 29ms/step - loss: 0.7542 - accuracy: 0.7338 - val_loss: 0.8655 - val_accuracy: 0.7048\n",
            "Epoch 28/30\n",
            "704/704 [==============================] - 21s 30ms/step - loss: 0.7471 - accuracy: 0.7344 - val_loss: 0.8882 - val_accuracy: 0.6978\n",
            "Epoch 29/30\n",
            "704/704 [==============================] - 21s 30ms/step - loss: 0.7410 - accuracy: 0.7358 - val_loss: 0.8396 - val_accuracy: 0.7146\n",
            "Epoch 30/30\n",
            "704/704 [==============================] - 21s 29ms/step - loss: 0.7390 - accuracy: 0.7389 - val_loss: 0.8402 - val_accuracy: 0.7112\n"
          ]
        }
      ]
    },
    {
      "cell_type": "code",
      "source": [
        "model.evaluate(test_generator)"
      ],
      "metadata": {
        "id": "wRiTFwb4BkEq",
        "colab": {
          "base_uri": "https://localhost:8080/"
        },
        "outputId": "3c3dad90-4692-4a50-ba5e-8a5a7def1bb5"
      },
      "execution_count": 33,
      "outputs": [
        {
          "output_type": "stream",
          "name": "stdout",
          "text": [
            "157/157 [==============================] - 1s 5ms/step - loss: 0.8915 - accuracy: 0.7043\n"
          ]
        },
        {
          "output_type": "execute_result",
          "data": {
            "text/plain": [
              "[0.8915425539016724, 0.7042999863624573]"
            ]
          },
          "metadata": {},
          "execution_count": 33
        }
      ]
    },
    {
      "cell_type": "code",
      "source": [
        "# Plot the chart for accuracy and loss on both training and validation\n",
        "acc = history.history['accuracy']\n",
        "val_acc = history.history['val_accuracy']\n",
        "loss = history.history['loss']\n",
        "val_loss = history.history['val_loss']\n",
        "\n",
        "epochs = range(len(acc))\n",
        "\n",
        "plt.plot(epochs, acc, 'r', label='Training accuracy')\n",
        "plt.plot(epochs, val_acc, 'b', label='Validation accuracy')\n",
        "plt.title('Training and validation accuracy')\n",
        "plt.legend()\n",
        "plt.figure()\n",
        "\n",
        "plt.plot(epochs, loss, 'r', label='Training Loss')\n",
        "plt.plot(epochs, val_loss, 'b', label='Validation Loss')\n",
        "plt.title('Training and validation loss')\n",
        "plt.legend()\n",
        "\n",
        "plt.show()"
      ],
      "metadata": {
        "id": "g0inzvEKB6Ym",
        "colab": {
          "base_uri": "https://localhost:8080/",
          "height": 545
        },
        "outputId": "0d25d544-8985-4500-abe7-7160e66d35bd"
      },
      "execution_count": 34,
      "outputs": [
        {
          "output_type": "display_data",
          "data": {
            "text/plain": [
              "<Figure size 432x288 with 1 Axes>"
            ],
            "image/png": "[encoded data removed]"
          },
          "metadata": {
            "needs_background": "light"
          }
        },
        {
          "output_type": "display_data",
          "data": {
            "text/plain": [
              "<Figure size 432x288 with 1 Axes>"
            ],
            "image/png": "[encoded data removed]"
          },
          "metadata": {
            "needs_background": "light"
          }
        }
      ]
    },
    {
      "cell_type": "code",
      "source": [
        "os.makedirs(\"/tmp/images\")"
      ],
      "metadata": {
        "id": "3T0QY7twsywu"
      },
      "execution_count": 17,
      "outputs": []
    },
    {
      "cell_type": "code",
      "source": [
        "#Now upload and predict your image\n",
        "from keras.preprocessing import image\n",
        "import os\n",
        "\n",
        "images = os.listdir(\"/tmp/images\")\n",
        "\n",
        "print(images)\n",
        "\n",
        "for i in images:\n",
        "  print()\n",
        "  # predicting images\n",
        "  path = '/tmp/images/' + i\n",
        "  img = image.load_img(path, target_size=(32, 32))\n",
        "  x = image.img_to_array(img)\n",
        "  x /= 255\n",
        "  x = np.expand_dims(x, axis=0)\n",
        "\n",
        "  images = np.vstack([x])\n",
        "  classes = model.predict(images, batch_size=10)\n",
        "  print(classes[0])\n",
        "  if np.argmax(classes) == 0:\n",
        "    print(i + \" is a airplane\")\n",
        "  elif np.argmax(classes) == 1:\n",
        "    print(i + \" is a automobile\")\n",
        "  elif np.argmax(classes) == 2:\n",
        "    print(i + \" is a bird\")\n",
        "  elif np.argmax(classes) == 3:\n",
        "    print(i + \" is a cat\")\n",
        "  elif np.argmax(classes) == 4:\n",
        "    print(i + \" is a deer\")\n",
        "  elif np.argmax(classes) == 5:\n",
        "    print(i + \" is a dog\")\n",
        "  elif np.argmax(classes) == 6:\n",
        "    print(i + \" is a frog\")\n",
        "  elif np.argmax(classes) == 7:\n",
        "    print(i + \" is a horse\")\n",
        "  elif np.argmax(classes) == 8:\n",
        "    print(i + \" is a ship\")\n",
        "  elif np.argmax(classes) == 9:\n",
        "    print(i + \" is a truck\")"
      ],
      "metadata": {
        "colab": {
          "base_uri": "https://localhost:8080/"
        },
        "id": "5Ve1sO_uq7K5",
        "outputId": "49c7252a-f868-4ae1-cc35-c10d1d6abdbf"
      },
      "execution_count": 35,
      "outputs": [
        {
          "output_type": "stream",
          "name": "stdout",
          "text": [
            "['IMG_1155.jpeg', 'horse-g1edc8d965_640.jpg', 'container-ship-gae728fb2e_640.jpg', 'airplane-gd8ec3136a_640.jpg']\n",
            "\n",
            "[2.4982530e-03 2.8027028e-03 1.1723215e-04 6.7341946e-02 1.4310023e-03\n",
            " 2.1427411e-04 4.3904290e-01 1.2964636e-02 6.6511840e-02 4.0707529e-01]\n",
            "IMG_1155.jpeg is a frog\n",
            "\n",
            "[0.20701957 0.01417127 0.12916261 0.04563205 0.18949091 0.02598176\n",
            " 0.00053256 0.25531358 0.11207481 0.02062091]\n",
            "horse-g1edc8d965_640.jpg is a horse\n",
            "\n",
            "[7.9568309e-01 1.1016434e-02 7.9263380e-05 7.9885888e-07 2.2719996e-05\n",
            " 5.9751534e-07 1.7163408e-08 2.7076512e-06 1.5462010e-01 3.8574338e-02]\n",
            "container-ship-gae728fb2e_640.jpg is a airplane\n",
            "\n",
            "[1.4295566e-01 3.5361737e-01 9.8942379e-03 1.1114230e-03 1.0280871e-02\n",
            " 1.2179960e-04 1.3563050e-04 3.5135937e-03 1.8780912e-01 2.9056025e-01]\n",
            "airplane-gd8ec3136a_640.jpg is a automobile\n"
          ]
        }
      ]
    }
  ]
}